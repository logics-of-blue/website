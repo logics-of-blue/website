{
 "cells": [
  {
   "cell_type": "markdown",
   "metadata": {},
   "source": [
    "# 分散分析の基礎 | Logics of Blue\n",
    "\n",
    "## https://logics-of-blue.com/anova-foundation/"
   ]
  },
  {
   "cell_type": "markdown",
   "metadata": {},
   "source": [
    "## 前準備"
   ]
  },
  {
   "cell_type": "code",
   "execution_count": 1,
   "metadata": {},
   "outputs": [],
   "source": [
    "# ライブラリの読み込み\n",
    "import numpy as np\n",
    "import pandas as pd\n",
    "import scipy as sp\n",
    "import statsmodels\n",
    "import statsmodels.api as sm\n",
    "import statsmodels.formula.api as smf"
   ]
  },
  {
   "cell_type": "code",
   "execution_count": 2,
   "metadata": {},
   "outputs": [
    {
     "name": "stdout",
     "output_type": "stream",
     "text": [
      "np  1.18.5\n",
      "pd  1.0.5\n",
      "sp  1.5.0\n",
      "sm  0.11.1\n"
     ]
    }
   ],
   "source": [
    "# ライブラリのバージョン\n",
    "print('np ',np.__version__)\n",
    "print('pd ',pd.__version__)\n",
    "print('sp ',sp.__version__)\n",
    "print('sm ',statsmodels.__version__)"
   ]
  },
  {
   "cell_type": "markdown",
   "metadata": {},
   "source": [
    "## 分散分析の実行"
   ]
  },
  {
   "cell_type": "code",
   "execution_count": 3,
   "metadata": {},
   "outputs": [
    {
     "name": "stdout",
     "output_type": "stream",
     "text": [
      "   weight food\n",
      "0       2    A\n",
      "1       4    A\n",
      "2      10    B\n",
      "3      12    B\n",
      "4       6    C\n",
      "5       8    C\n"
     ]
    }
   ],
   "source": [
    "# データの読み込み\n",
    "data = pd.read_csv('data.csv')\n",
    "print(data)"
   ]
  },
  {
   "cell_type": "code",
   "execution_count": 4,
   "metadata": {},
   "outputs": [
    {
     "name": "stdout",
     "output_type": "stream",
     "text": [
      "           df  sum_sq  mean_sq     F    PR(>F)\n",
      "food      2.0    64.0     32.0  16.0  0.025095\n",
      "Residual  3.0     6.0      2.0   NaN       NaN\n"
     ]
    }
   ],
   "source": [
    "# モデル化\n",
    "anova_mod = smf.ols('weight ~ food', data=data).fit()\n",
    "\n",
    "# 分散分析表\n",
    "anova_table = sm.stats.anova_lm(anova_mod, type=2)\n",
    "print(anova_table)"
   ]
  },
  {
   "cell_type": "code",
   "execution_count": 5,
   "metadata": {},
   "outputs": [
    {
     "data": {
      "text/plain": [
       "0.02509457330439091"
      ]
     },
     "execution_count": 5,
     "metadata": {},
     "output_type": "execute_result"
    }
   ],
   "source": [
    "# F分布を使ってp値を計算する\n",
    "1 - sp.stats.f.cdf(16, 2, 3)"
   ]
  },
  {
   "cell_type": "code",
   "execution_count": 6,
   "metadata": {},
   "outputs": [
    {
     "data": {
      "text/plain": [
       "pandas.core.frame.DataFrame"
      ]
     },
     "execution_count": 6,
     "metadata": {},
     "output_type": "execute_result"
    }
   ],
   "source": [
    "# 分散分析表はDataFrameなので結果の取り出しは容易\n",
    "type(anova_table)"
   ]
  },
  {
   "cell_type": "code",
   "execution_count": 7,
   "metadata": {},
   "outputs": [
    {
     "data": {
      "text/plain": [
       "food        16.0\n",
       "Residual     NaN\n",
       "Name: F, dtype: float64"
      ]
     },
     "execution_count": 7,
     "metadata": {},
     "output_type": "execute_result"
    }
   ],
   "source": [
    "# F比\n",
    "anova_table['F']"
   ]
  },
  {
   "cell_type": "code",
   "execution_count": 8,
   "metadata": {},
   "outputs": [
    {
     "data": {
      "text/plain": [
       "16.0"
      ]
     },
     "execution_count": 8,
     "metadata": {},
     "output_type": "execute_result"
    }
   ],
   "source": [
    "anova_table.loc['food', 'F']"
   ]
  },
  {
   "cell_type": "code",
   "execution_count": 9,
   "metadata": {},
   "outputs": [
    {
     "data": {
      "text/plain": [
       "16.0"
      ]
     },
     "execution_count": 9,
     "metadata": {},
     "output_type": "execute_result"
    }
   ],
   "source": [
    "# モデルから直接取り出してもよい\n",
    "anova_mod.fvalue"
   ]
  },
  {
   "cell_type": "markdown",
   "metadata": {},
   "source": [
    "## PB検定"
   ]
  },
  {
   "cell_type": "code",
   "execution_count": 10,
   "metadata": {},
   "outputs": [],
   "source": [
    "# 帰無仮説が正しい(foodによって体重が変わらない)ことを仮定したモデル\n",
    "anova_null = smf.ols('weight ~ 1', data=data).fit()"
   ]
  },
  {
   "cell_type": "code",
   "execution_count": 11,
   "metadata": {},
   "outputs": [
    {
     "data": {
      "text/plain": [
       "Intercept    7.0\n",
       "dtype: float64"
      ]
     },
     "execution_count": 11,
     "metadata": {},
     "output_type": "execute_result"
    }
   ],
   "source": [
    "# 総平均\n",
    "anova_null.params"
   ]
  },
  {
   "cell_type": "code",
   "execution_count": 12,
   "metadata": {},
   "outputs": [
    {
     "data": {
      "text/plain": [
       "7.0"
      ]
     },
     "execution_count": 12,
     "metadata": {},
     "output_type": "execute_result"
    }
   ],
   "source": [
    "np.mean(data.weight)"
   ]
  },
  {
   "cell_type": "code",
   "execution_count": 13,
   "metadata": {},
   "outputs": [
    {
     "data": {
      "text/plain": [
       "3.7416573867739413"
      ]
     },
     "execution_count": 13,
     "metadata": {},
     "output_type": "execute_result"
    }
   ],
   "source": [
    "# モデルの標準偏差\n",
    "np.sqrt(anova_null.scale)"
   ]
  },
  {
   "cell_type": "code",
   "execution_count": 14,
   "metadata": {},
   "outputs": [
    {
     "data": {
      "text/plain": [
       "3.7416573867739413"
      ]
     },
     "execution_count": 14,
     "metadata": {},
     "output_type": "execute_result"
    }
   ],
   "source": [
    "np.std(data.weight, ddof=1)"
   ]
  },
  {
   "cell_type": "code",
   "execution_count": 15,
   "metadata": {},
   "outputs": [
    {
     "name": "stdout",
     "output_type": "stream",
     "text": [
      "[13.07774383  4.7110171   5.02376226  2.98531903 10.23805885 -1.61156927]\n"
     ]
    }
   ],
   "source": [
    "# 平均7、標準偏差3.741657の正規分布に従う確率変数を生成\n",
    "np.random.seed(1)\n",
    "mu = np.mean(data.weight)\n",
    "sd = np.std(data.weight, ddof=1) \n",
    "size = len(data)\n",
    "\n",
    "norm_instance = sp.stats.norm(loc=mu, scale=sd)\n",
    "res_rnorm = norm_instance.rvs(size=size)\n",
    "\n",
    "print(res_rnorm)"
   ]
  },
  {
   "cell_type": "code",
   "execution_count": 16,
   "metadata": {},
   "outputs": [
    {
     "name": "stdout",
     "output_type": "stream",
     "text": [
      "F比 0.4193728369926777\n",
      "           df      sum_sq    mean_sq         F    PR(>F)\n",
      "food      2.0   29.995090  14.997545  0.419373  0.690872\n",
      "Residual  3.0  107.285527  35.761842       NaN       NaN\n"
     ]
    }
   ],
   "source": [
    "# このシミュレーションデータに対してF比を計算すると、\n",
    "# 小さなF比が得られやすい\n",
    "\n",
    "# DataFrameに直す(statsmodels.regression.linear_model.OLSを使う方法もある)\n",
    "sim_df = pd.DataFrame({\n",
    "    'weight': res_rnorm,\n",
    "    'food': data.food\n",
    "})\n",
    "\n",
    "# 分散分析の実行\n",
    "mod_sim = smf.ols('weight ~ food', data=sim_df).fit()\n",
    "print('F比', mod_sim.fvalue)\n",
    "print(sm.stats.anova_lm(mod_sim, type=2))"
   ]
  },
  {
   "cell_type": "code",
   "execution_count": 17,
   "metadata": {},
   "outputs": [],
   "source": [
    "# PB検定の実行\n",
    "# 時間がかかるので注意\n",
    "\n",
    "n_sim = 50000                 # シミュレーションする回数\n",
    "f_ratio_vec = np.zeros(n_sim) # F比を保管する容れ物\n",
    "exp_vec = data.food           # 水準\n",
    "\n",
    "np.random.seed(1)\n",
    "for i in range(0, n_sim):\n",
    "    # シミュレーションにより体重データを生成\n",
    "    # このデータは、体重が餌によって変化しないことを想定している\n",
    "    simlated_weight = norm_instance.rvs(size=size)\n",
    "    sim_df = pd.DataFrame({\n",
    "        'weight': simlated_weight,\n",
    "        'food': exp_vec\n",
    "    })\n",
    "    # モデル化と分散分析表の出力\n",
    "    mod_sim = smf.ols('weight ~ food', data=sim_df).fit()\n",
    "    # F比を保管\n",
    "    f_ratio_vec[i] = mod_sim.fvalue"
   ]
  },
  {
   "cell_type": "code",
   "execution_count": 18,
   "metadata": {},
   "outputs": [
    {
     "data": {
      "text/plain": [
       "0.02458"
      ]
     },
     "execution_count": 18,
     "metadata": {},
     "output_type": "execute_result"
    }
   ],
   "source": [
    "# F比が16を超えた割合\n",
    "sum(f_ratio_vec > 16) / n_sim"
   ]
  }
 ],
 "metadata": {
  "kernelspec": {
   "display_name": "Python 3",
   "language": "python",
   "name": "python3"
  },
  "language_info": {
   "codemirror_mode": {
    "name": "ipython",
    "version": 3
   },
   "file_extension": ".py",
   "mimetype": "text/x-python",
   "name": "python",
   "nbconvert_exporter": "python",
   "pygments_lexer": "ipython3",
   "version": "3.8.3"
  }
 },
 "nbformat": 4,
 "nbformat_minor": 4
}
